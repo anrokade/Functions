{
  "nbformat": 4,
  "nbformat_minor": 0,
  "metadata": {
    "colab": {
      "provenance": []
    },
    "kernelspec": {
      "name": "python3",
      "display_name": "Python 3"
    },
    "language_info": {
      "name": "python"
    }
  },
  "cells": [
    {
      "cell_type": "markdown",
      "source": [
        "# Theory Questions: Function"
      ],
      "metadata": {
        "id": "rwg2BLY4TQn1"
      }
    },
    {
      "cell_type": "markdown",
      "source": [
        "### 1. What is the difference between a function and a method in Python?"
      ],
      "metadata": {
        "id": "W7JWb-CtTQjz"
      }
    },
    {
      "cell_type": "markdown",
      "source": [
        "1. Function:\n",
        "\n",
        "-  A function is a block of organized, reusable code that performs a specific\n",
        "   task.\n",
        "- It's defined independently in your script or module.\n",
        "- You call a function directly by its name, possibly passing arguments.\n",
        "- Functions don't inherently operate on any specific object."
      ],
      "metadata": {
        "id": "rCP0wWpwTQhE"
      }
    },
    {
      "cell_type": "code",
      "source": [
        "def greet(name):\n",
        "    return f\"Hello, {name}!\"\n",
        "\n",
        "print(greet(\"Alice\"))\n"
      ],
      "metadata": {
        "colab": {
          "base_uri": "https://localhost:8080/"
        },
        "id": "5jiVGpEjUVfL",
        "outputId": "6e9b3e17-febd-40ab-a996-851ddc69e28b"
      },
      "execution_count": null,
      "outputs": [
        {
          "output_type": "stream",
          "name": "stdout",
          "text": [
            "Hello, Alice!\n"
          ]
        }
      ]
    },
    {
      "cell_type": "markdown",
      "source": [
        "\n",
        "Method:\n",
        "\n",
        "- A method is also a block of organized, reusable code that performs a specific task.\n",
        "- However, a method is associated with an object (an instance of a class).\n",
        "- You call a method on an object using dot notation (object.method()).\n",
        "- The first parameter of a method is conventionally named self, which - automatically refers to the instance of the object on which the method is called. This allows the method to access and modify the object's attributes.\n"
      ],
      "metadata": {
        "id": "x-qiHB-5TQdU"
      }
    },
    {
      "cell_type": "code",
      "source": [
        "class Greeter:\n",
        "    def greet(self, name):\n",
        "        return f\"Hello, {name}!\"\n",
        "\n",
        "greeter = Greeter()\n",
        "print(greeter.greet(\"Alice\"))"
      ],
      "metadata": {
        "colab": {
          "base_uri": "https://localhost:8080/"
        },
        "id": "bsX7WhcwVREl",
        "outputId": "cc4687eb-96f5-4d42-c581-6f82d7e07276"
      },
      "execution_count": null,
      "outputs": [
        {
          "output_type": "stream",
          "name": "stdout",
          "text": [
            "Hello, Alice!\n"
          ]
        }
      ]
    },
    {
      "cell_type": "markdown",
      "source": [
        "### 2. Explain the concept of function arguments and parameters in Python."
      ],
      "metadata": {
        "id": "t-xXNsAYTQZ1"
      }
    },
    {
      "cell_type": "markdown",
      "source": [
        "1. Parameters\n",
        "\n",
        "Parameters are the names listed in a function's definition. They act as placeholders for the values that will be passed to the function when it is called."
      ],
      "metadata": {
        "id": "5IkM3ycljW3A"
      }
    },
    {
      "cell_type": "code",
      "execution_count": null,
      "metadata": {
        "id": "4YrroQwDTJes"
      },
      "outputs": [],
      "source": [
        "def greet(name):\n",
        "    print(f\"Hello, {name}!\")\n",
        "# Here, name is a parameter."
      ]
    },
    {
      "cell_type": "markdown",
      "source": [
        "2. Arguments\n",
        "\n",
        "Arguments are the actual values you pass to a function when calling it. These values are assigned to the corresponding parameters."
      ],
      "metadata": {
        "id": "GnkoaaPIm0JH"
      }
    },
    {
      "cell_type": "code",
      "source": [
        "greet(\"Alice\") # Here, \"Alice\" is an argument passed to the function greet."
      ],
      "metadata": {
        "colab": {
          "base_uri": "https://localhost:8080/"
        },
        "id": "OVR3g8HJmq9l",
        "outputId": "eff029f4-8135-40ea-bafc-598a0a3c4c2d"
      },
      "execution_count": null,
      "outputs": [
        {
          "output_type": "stream",
          "name": "stdout",
          "text": [
            "Hello, Alice!\n"
          ]
        }
      ]
    },
    {
      "cell_type": "markdown",
      "source": [
        "Types of Arguments in Python\n",
        "\n",
        "Python supports several types of arguments:\n",
        "\n",
        "- Positional Arguments – Matched to parameters in order.\n"
      ],
      "metadata": {
        "id": "7sQc3uQomuZC"
      }
    },
    {
      "cell_type": "code",
      "source": [
        "def add(a, b):\n",
        "    return a + b\n",
        "\n",
        "add(2, 3)  # 2 is matched to a, 3 to b\n"
      ],
      "metadata": {
        "colab": {
          "base_uri": "https://localhost:8080/"
        },
        "id": "JL5keqq9nWhk",
        "outputId": "65aaa55c-e050-4f79-cd7b-05429eb0bc01"
      },
      "execution_count": null,
      "outputs": [
        {
          "output_type": "execute_result",
          "data": {
            "text/plain": [
              "5"
            ]
          },
          "metadata": {},
          "execution_count": 5
        }
      ]
    },
    {
      "cell_type": "markdown",
      "source": [
        "- Keyword Arguments – Specify which parameter to assign by name."
      ],
      "metadata": {
        "id": "5XE-_Hlbnc0Z"
      }
    },
    {
      "cell_type": "code",
      "source": [
        "add(b=3, a=2)"
      ],
      "metadata": {
        "colab": {
          "base_uri": "https://localhost:8080/"
        },
        "id": "CD6zA6PJnYL7",
        "outputId": "8cdbd6d8-614d-4e9a-f0c4-537fcedd2fd5"
      },
      "execution_count": null,
      "outputs": [
        {
          "output_type": "execute_result",
          "data": {
            "text/plain": [
              "5"
            ]
          },
          "metadata": {},
          "execution_count": 6
        }
      ]
    },
    {
      "cell_type": "markdown",
      "source": [
        "- Default Arguments – Parameters that have default values if no argument is passed."
      ],
      "metadata": {
        "id": "T9gfA3Eln6Ff"
      }
    },
    {
      "cell_type": "code",
      "source": [
        "def power(base, exponent=2): # exponent has a default value of 2\n",
        "  result = base ** exponent\n",
        "  return result\n",
        "\n",
        "print(power(5))      # Uses the default exponent (5^2 = 25)\n",
        "print(power(5, 3))   # Overrides the default exponent (5^3 = 125)\n",
        "print(power(base=10)) # Uses the default exponent (10^2 = 100)"
      ],
      "metadata": {
        "colab": {
          "base_uri": "https://localhost:8080/"
        },
        "id": "yQ51pCNpntXN",
        "outputId": "45c7b297-b914-4c5c-c4b9-92995b5b2081"
      },
      "execution_count": null,
      "outputs": [
        {
          "output_type": "stream",
          "name": "stdout",
          "text": [
            "25\n",
            "125\n",
            "100\n"
          ]
        }
      ]
    },
    {
      "cell_type": "markdown",
      "source": [
        "Variable-length Arguments:\n",
        "\n",
        "- *args –\n",
        "Sometimes, you might not know in advance how many arguments a function will need to receive.\n",
        "\n",
        "- **kwargs -\n",
        "\n",
        "Similarly,  **kwargs allows you to collect any extra keyword arguments into a dictionary.The keys of the dictionary will be the parameter names (the keywords), and the values will be the corresponding argument values."
      ],
      "metadata": {
        "id": "1ifIzxQLobfP"
      }
    },
    {
      "cell_type": "code",
      "source": [
        "def print_info(**kwargs):\n",
        "    for key, value in kwargs.items():\n",
        "        print(f\"{key}: {value}\")\n",
        "\n",
        "print_info(name=\"Alice\", age=30, city=\"New York\")\n"
      ],
      "metadata": {
        "colab": {
          "base_uri": "https://localhost:8080/"
        },
        "id": "x9ypiPE2oFPe",
        "outputId": "c8539773-6e44-4a09-fdd8-c1ed97e4e8b8"
      },
      "execution_count": null,
      "outputs": [
        {
          "output_type": "stream",
          "name": "stdout",
          "text": [
            "name: Alice\n",
            "age: 30\n",
            "city: New York\n"
          ]
        }
      ]
    },
    {
      "cell_type": "markdown",
      "source": [
        "### 3. What are the different ways to define and call a function in Python?"
      ],
      "metadata": {
        "id": "EkI0L4I8yMyu"
      }
    },
    {
      "cell_type": "markdown",
      "source": [
        "1. Standard Function Definition (with def):\n",
        "\n",
        "def greet(name):\n",
        "\n",
        "    print(f\"Hello, {name}!\")\n",
        "\n",
        "greet(\"Alice\") # call\n",
        "\n",
        "\n",
        "2. Function with Default Parameters:\n",
        "\n",
        "def greet(name=\"Guest\"):\n",
        "\n",
        "    print(f\"Hello, {name}!\")\n",
        "\n",
        "greet()           # Uses default\n",
        "\n",
        "greet(\"Bob\")      # Overrides default\n",
        "\n",
        "\n",
        "3. Function with *args and ***kwargs:\n",
        "\n",
        "def show_data(*args, ***kwargs):\n",
        "\n",
        "    print(\"Args:\", args)\n",
        "\n",
        "    print(\"Kwargs:\", kwargs)\n",
        "\n",
        "show_data(1, 2, a=\"apple\", b=\"banana\")\n",
        "\n",
        "\n",
        "4. Lambda Function (Anonymous function):\n",
        "\n",
        "add = lambda x, y: x + y\n",
        "\n",
        "print(add(5, 3))  # Output: 8\n",
        "\n",
        "5. Recursive Function (Calls itself):\n",
        "\n",
        "def factorial(n):\n",
        "\n",
        "    if n == 0:\n",
        "\n",
        "        return 1\n",
        "        \n",
        "    return n * factorial(n - 1)\n",
        "\n",
        "print(factorial(5))  # Output: 120\n",
        "\n"
      ],
      "metadata": {
        "id": "s81FBBsHznJF"
      }
    },
    {
      "cell_type": "markdown",
      "source": [
        "### 4. What is the purpose of the `return` statement in a Python function?\n"
      ],
      "metadata": {
        "id": "20iIeuZAznGr"
      }
    },
    {
      "cell_type": "markdown",
      "source": [
        "The `return` statement in a Python function is used to **send a result back to the caller** and **exit the function**. It allows the function to produce an output that can be stored or used elsewhere in the program.\n"
      ],
      "metadata": {
        "id": "Aiem9hCrznEY"
      }
    },
    {
      "cell_type": "code",
      "source": [
        "def add(a, b):\n",
        "    return a + b\n",
        "\n",
        "result = add(2, 3)\n",
        "print(result)\n"
      ],
      "metadata": {
        "colab": {
          "base_uri": "https://localhost:8080/"
        },
        "id": "uT0WuZeXr5Qd",
        "outputId": "aece8eea-5d82-433e-f0af-dede2088198f"
      },
      "execution_count": null,
      "outputs": [
        {
          "output_type": "stream",
          "name": "stdout",
          "text": [
            "5\n"
          ]
        }
      ]
    },
    {
      "cell_type": "markdown",
      "source": [
        "### 5. What are iterators in Python and how do they differ from iterables?\n"
      ],
      "metadata": {
        "id": "Luk8n31-2o8z"
      }
    },
    {
      "cell_type": "markdown",
      "source": [
        "- Iterable: An object that can be looped over (e.g., list, tuple, str). It has a method __iter__() that returns an iterator.\n",
        "\n",
        "- Iterator: An object with a __next__() method that returns elements one at a time. It remembers its position during iteration.\n",
        "\n",
        "| Feature           | Iterable               | Iterator               |\n",
        "| ----------------- | ---------------------- | ---------------------- |\n",
        "| Can be looped?    | ✅ Yes                  | ✅ Yes                  |\n",
        "| Has `__iter__()`? | ✅ Yes                  | ✅ Yes                  |\n",
        "| Has `__next__()`? | ❌ No (usually)         | ✅ Yes                  |\n",
        "| Example           | `list`, `str`, `tuple` | Output of `iter(list)` |\n"
      ],
      "metadata": {
        "id": "k8k9OVoV2o5c"
      }
    },
    {
      "cell_type": "markdown",
      "source": [
        "### 6. Explain the concept of generators in Python and how they are defined.\n"
      ],
      "metadata": {
        "id": "V8dhNbUA2o2T"
      }
    },
    {
      "cell_type": "markdown",
      "source": [
        "A generator in Python is a special type of function that produces a sequence of values lazily, meaning it yields one value at a time and pauses between each, instead of returning all values at once.\n",
        "\n",
        "\n"
      ],
      "metadata": {
        "id": "Ata2NYZWznBh"
      }
    },
    {
      "cell_type": "code",
      "source": [
        "# Generators Defined\n",
        "\n",
        "def count_up_to(n):\n",
        "    count = 1\n",
        "    while count <= n:\n",
        "        yield count\n",
        "        count += 1\n",
        "counter = count_up_to(3)\n",
        "\n",
        "print(next(counter))\n",
        "print(next(counter))\n",
        "print(next(counter))\n",
        "# next(counter) again would raise StopIteration\n"
      ],
      "metadata": {
        "colab": {
          "base_uri": "https://localhost:8080/"
        },
        "id": "vhFaGkhU4KH8",
        "outputId": "6a6408b2-7c0b-4364-9998-998b97732b4c"
      },
      "execution_count": null,
      "outputs": [
        {
          "output_type": "stream",
          "name": "stdout",
          "text": [
            "1\n",
            "2\n",
            "3\n"
          ]
        }
      ]
    },
    {
      "cell_type": "markdown",
      "source": [
        "How It Works:\n",
        "\n",
        "- yield pauses the function and saves its state.\n",
        "\n",
        "- Each call to next() resumes from where it left off.\n",
        "\n",
        "- The function doesn't restart—it continues until completion.\n",
        "\n",
        "Benefits of Generators:\n",
        "\n",
        "- Memory-efficient: Doesn't store the whole sequence in memory.\n",
        "\n",
        "- Useful for large datasets or infinite sequences.\n",
        "\n",
        "- Faster startup: Starts producing results immediately.\n",
        "\n",
        "Generator vs Regular Function:\n",
        "\n",
        "| Feature             | Regular Function               | Generator                      |\n",
        "| ------------------- | ------------------------------ | ------------------------------ |\n",
        "| Returns             | All results at once (`return`) | One result at a time (`yield`) |\n",
        "| Memory usage        | Higher                         | Lower (lazy evaluation)        |\n",
        "| Used with `next()`? | ❌ No                           | ✅ Yes                          |\n"
      ],
      "metadata": {
        "id": "6jEQEwoB4d6Q"
      }
    },
    {
      "cell_type": "markdown",
      "source": [
        "### 7. What are the advantages of using generators over regular functions?"
      ],
      "metadata": {
        "id": "hotHgoP84d3s"
      }
    },
    {
      "cell_type": "markdown",
      "source": [
        "1. Memory Efficiency:\n",
        "\n",
        "    Generators yield items one at a time, so they don't store the entire sequence in memory.\n",
        "\n",
        "    Great for working with large or infinite data sets.\n",
        "\n",
        "2. Lazy Evaluation:\n",
        "\n",
        "    Values are computed only when needed.\n",
        "\n",
        "    This improves performance and reduces resource usage.\n",
        "\n",
        "3. Cleaner Code for Iteration:\n",
        "\n",
        "    Simplifies writing iterators—no need to manage __iter__() and __next__() manually.\n",
        "\n",
        "4. Supports Infinite Sequences:\n",
        "\n",
        "    Generators can represent infinite streams without crashing or consuming all memory.\n",
        "\n",
        "5. Improved Performance:\n",
        "\n",
        "    Since they don’t compute values until requested, they can speed up programs that don't need all values immediately.\n",
        "\n",
        "6. Easy to Use with Loops:\n",
        "\n",
        "    Generators integrate seamlessly with for loops and other iterables.\n",
        "\n"
      ],
      "metadata": {
        "id": "ochMAeNo4d02"
      }
    },
    {
      "cell_type": "markdown",
      "source": [
        "### 8. What is a lambda function in Python and when is it typically used?"
      ],
      "metadata": {
        "id": "d6HYxer666Zb"
      }
    },
    {
      "cell_type": "markdown",
      "source": [
        "A lambda function is a small, anonymous function defined using the lambda keyword in Python.\n",
        "It can take any number of arguments but only one expression.\n",
        "\n",
        "syntax -\n",
        "\n",
        "lambda arguments: expression\n",
        "\n",
        "Lambda functions are used when you need a quick, throwaway function—often for short, simple operations."
      ],
      "metadata": {
        "id": "C0WJfUzV66Le"
      }
    },
    {
      "cell_type": "code",
      "source": [
        "square = lambda x: x * x\n",
        "print(square(5))"
      ],
      "metadata": {
        "colab": {
          "base_uri": "https://localhost:8080/"
        },
        "id": "Sy7hL7s54N7a",
        "outputId": "6245e21a-e467-4f26-c743-e416619f33fd"
      },
      "execution_count": null,
      "outputs": [
        {
          "output_type": "stream",
          "name": "stdout",
          "text": [
            "25\n"
          ]
        }
      ]
    },
    {
      "cell_type": "markdown",
      "source": [
        "### 9. Explain the purpose and usage of the `map()` function in Python."
      ],
      "metadata": {
        "id": "2GCQ5LVF66Ib"
      }
    },
    {
      "cell_type": "markdown",
      "source": [
        "The map() function in Python is used to apply a function to every item in an iterable (like a list or tuple) and return a new iterable (a map object) with the results."
      ],
      "metadata": {
        "id": "l--8mIVg8J2h"
      }
    },
    {
      "cell_type": "code",
      "source": [
        "nums = [1, 2, 3, 4]\n",
        "squared = map(lambda x: x ** 2, nums)\n",
        "\n",
        "print(list(squared))\n"
      ],
      "metadata": {
        "colab": {
          "base_uri": "https://localhost:8080/"
        },
        "id": "p3bIpqgJ7POG",
        "outputId": "490ac449-2606-4778-f041-874d0a431444"
      },
      "execution_count": null,
      "outputs": [
        {
          "output_type": "stream",
          "name": "stdout",
          "text": [
            "[1, 4, 9, 16]\n"
          ]
        }
      ]
    },
    {
      "cell_type": "markdown",
      "source": [
        "### 10. What is the difference between `map()`, `reduce()`, and `filter()` functions in Python?\n",
        "\n",
        "\n"
      ],
      "metadata": {
        "id": "jq1EFtu189N6"
      }
    },
    {
      "cell_type": "markdown",
      "source": [
        "| Function   | Purpose                         | Input           | Output               | Use Case                             |\n",
        "| ---------- | ------------------------------- | --------------- | -------------------- | ------------------------------------ |\n",
        "| `map()`    | Transform each element          | Iterable + func | Transformed iterable | Apply a function to all items        |\n",
        "| `filter()` | Select elements based on a test | Iterable + func | Filtered iterable    | Keep only items that match condition |\n",
        "| `reduce()` | Combine all elements to one     | Iterable + func | Single value         | Accumulate a result (sum, product)   |\n"
      ],
      "metadata": {
        "id": "MlmKPcsI89HB"
      }
    },
    {
      "cell_type": "markdown",
      "source": [
        "### 11. Using pen & Paper write the internal mechanism for sum operation using reduce function on this given list:[47,11,42,13]; (Attach paper image for this answer) in doc or colab notebook."
      ],
      "metadata": {
        "id": "vKZzJxrrAPWR"
      }
    },
    {
      "cell_type": "markdown",
      "source": [],
      "metadata": {
        "id": "llceECj_APTN"
      }
    },
    {
      "cell_type": "code",
      "source": [
        "![Sum reduce handwritten](https://drive.google.com/file/d/1-JukthjXlWbH59WfZIN-GLacwpy1K_4N/view?usp=drive_link)"
      ],
      "metadata": {
        "id": "qdLWriVl8ufL",
        "colab": {
          "base_uri": "https://localhost:8080/"
        },
        "outputId": "a093412c-ec9d-4f45-a367-c54978f2805e"
      },
      "execution_count": null,
      "outputs": [
        {
          "output_type": "stream",
          "name": "stdout",
          "text": [
            "/bin/bash: -c: line 1: syntax error near unexpected token `('\n",
            "/bin/bash: -c: line 1: `[Sum reduce handwritten](https://drive.google.com/file/d/1-JukthjXlWbH59WfZIN-GLacwpy1K_4N/view?usp=drive_link)'\n"
          ]
        }
      ]
    },
    {
      "cell_type": "markdown",
      "source": [
        "# Practical Questions:"
      ],
      "metadata": {
        "id": "SZED4LTFOeJp"
      }
    },
    {
      "cell_type": "markdown",
      "source": [],
      "metadata": {
        "id": "mCY09GjMOeCi"
      }
    },
    {
      "cell_type": "code",
      "source": [
        "# 1. Write a Python function that takes a list of numbers as input and returns the sum of all even numbers in the list.\n",
        "\n",
        "def sum_of_even_numbers(numbers):\n",
        "\n",
        "    return sum(num for num in numbers if num % 2 == 0)\n",
        "\n",
        "my_list = [1, 2, 3, 4, 5, 6,7, 8, 9, 10]\n",
        "result = sum_of_even_numbers(my_list)\n",
        "print(result)\n",
        "\n",
        "\n"
      ],
      "metadata": {
        "colab": {
          "base_uri": "https://localhost:8080/"
        },
        "id": "iFnugj2IOklj",
        "outputId": "3e9e43b7-e646-4eec-f325-02204accecc7"
      },
      "execution_count": null,
      "outputs": [
        {
          "output_type": "stream",
          "name": "stdout",
          "text": [
            "30\n"
          ]
        }
      ]
    },
    {
      "cell_type": "code",
      "source": [
        "# 2. Create a Python function that accepts a string and returns the reverse of that string.\n",
        "\n",
        "def reverse_string(s):\n",
        "\n",
        "    return s[::-1]\n",
        "\n",
        "text = \"python\"\n",
        "reversed_text = reverse_string(text)\n",
        "print(reversed_text)\n"
      ],
      "metadata": {
        "colab": {
          "base_uri": "https://localhost:8080/"
        },
        "id": "M9H5083iPSX0",
        "outputId": "f82d5e0c-a177-493b-94da-4c0f52a75007"
      },
      "execution_count": null,
      "outputs": [
        {
          "output_type": "stream",
          "name": "stdout",
          "text": [
            "nohtyp\n"
          ]
        }
      ]
    },
    {
      "cell_type": "code",
      "source": [
        "# 3. Implement a Python function that takes a list of integers and returns a new list containing the squares of each number.\n",
        "\n",
        "def square_numbers(numbers):\n",
        "\n",
        "    return [num ** 2 for num in numbers]\n",
        "\n",
        "my_list = [1, 2, 3, 4, 5]\n",
        "squared_list = square_numbers(my_list)\n",
        "print(squared_list)\n",
        "\n"
      ],
      "metadata": {
        "colab": {
          "base_uri": "https://localhost:8080/"
        },
        "id": "wmFFIxcMPsqn",
        "outputId": "79ea1a83-a0f0-47cd-b93d-e40634007ce2"
      },
      "execution_count": null,
      "outputs": [
        {
          "output_type": "stream",
          "name": "stdout",
          "text": [
            "[1, 4, 9, 16, 25]\n"
          ]
        }
      ]
    },
    {
      "cell_type": "code",
      "source": [
        "# 4. Write a Python function that checks if a given number is prime or not from 1 to 200.\n",
        "\n",
        "def is_prime(n):\n",
        "    \"\"\"\n",
        "    Checks if the given number is a prime number between 1 and 200.\n",
        "\n",
        "    Parameters:\n",
        "    n (int): The number to check.\n",
        "\n",
        "    Returns:\n",
        "    bool: True if n is prime, False otherwise.\n",
        "    \"\"\"\n",
        "    if n <= 1 or n > 200:\n",
        "        return False\n",
        "    for i in range(2, int(n**0.5) + 1):\n",
        "        if n % i == 0:\n",
        "            return False\n",
        "    return True\n",
        "\n",
        "try:\n",
        "    num = int(input(\"Enter a number between 1 and 200: \"))\n",
        "    if 1 <= num <= 200:\n",
        "        if is_prime(num):\n",
        "            print(f\"{num} is a prime number.\")\n",
        "        else:\n",
        "            print(f\"{num} is not a prime number.\")\n",
        "    else:\n",
        "        print(\"Please enter a number within the range 1 to 200.\")\n",
        "except ValueError:\n",
        "    print(\"Invalid input. Please enter an integer.\")"
      ],
      "metadata": {
        "colab": {
          "base_uri": "https://localhost:8080/"
        },
        "id": "l77u8U_gRuJd",
        "outputId": "4393e45a-c1d3-403a-ec5d-cffb56c0ad29"
      },
      "execution_count": null,
      "outputs": [
        {
          "output_type": "stream",
          "name": "stdout",
          "text": [
            "Enter a number between 1 and 200: 198\n",
            "198 is not a prime number.\n"
          ]
        }
      ]
    },
    {
      "cell_type": "code",
      "source": [
        "# 5. Create an iterator class in Python that generates the Fibonacci sequence up to a specified number of terms.\n",
        "\n",
        "class FibonacciIterator:\n",
        "    def __init__(self, max_terms):\n",
        "        self.max_terms = max_terms  # Total number of terms to generate\n",
        "        self.count = 0              # Counter for how many terms have been generated\n",
        "        self.a, self.b = 0, 1       # Starting values for Fibonacci\n",
        "\n",
        "    def __iter__(self):\n",
        "        return self  # The iterator object itself\n",
        "\n",
        "    def __next__(self):\n",
        "        if self.count >= self.max_terms:\n",
        "            raise StopIteration  # Stop when max_terms is reached\n",
        "        if self.count == 0:\n",
        "            self.count += 1\n",
        "            return 0\n",
        "        elif self.count == 1:\n",
        "            self.count += 1\n",
        "            return 1\n",
        "        else:\n",
        "            self.a, self.b = self.b, self.a + self.b\n",
        "            self.count += 1\n",
        "            return self.a\n",
        "# Create an instance to generate the first 10 Fibonacci numbers\n",
        "fib = FibonacciIterator(10)\n",
        "\n",
        "for num in fib:\n",
        "    print(num)\n"
      ],
      "metadata": {
        "colab": {
          "base_uri": "https://localhost:8080/"
        },
        "id": "oRCHIP6sTRMY",
        "outputId": "9cd0c610-ca1b-4d27-c3ba-ce6660ca5ff3"
      },
      "execution_count": null,
      "outputs": [
        {
          "output_type": "stream",
          "name": "stdout",
          "text": [
            "0\n",
            "1\n",
            "1\n",
            "1\n",
            "2\n",
            "3\n",
            "5\n",
            "8\n",
            "13\n",
            "21\n"
          ]
        }
      ]
    },
    {
      "cell_type": "code",
      "source": [
        "# 6. Write a generator function in Python that yields the powers of 2 up to a given exponent.\n",
        "\n",
        "def powers_of_two(max_exponent):\n",
        "    \"\"\"\n",
        "    Yields powers of 2 from 2^0 up to 2^max_exponent.\n",
        "\n",
        "    Parameters:\n",
        "    max_exponent (int): The maximum exponent value.\n",
        "    \"\"\"\n",
        "    for exponent in range(max_exponent + 1):\n",
        "        yield 2 ** exponent\n",
        "\n",
        "\n",
        "for value in powers_of_two(5):\n",
        "    print(value)\n"
      ],
      "metadata": {
        "colab": {
          "base_uri": "https://localhost:8080/"
        },
        "id": "KxcKmB9uaiYv",
        "outputId": "2907715e-1887-425d-905b-299405ad8e75"
      },
      "execution_count": null,
      "outputs": [
        {
          "output_type": "stream",
          "name": "stdout",
          "text": [
            "1\n",
            "2\n",
            "4\n",
            "8\n",
            "16\n",
            "32\n"
          ]
        }
      ]
    },
    {
      "cell_type": "code",
      "source": [
        "# 7. Implement a generator function that reads a file line by line and yields each line as a string\n",
        "from google.colab import drive\n",
        "drive.mount('/content/drive', force_remount=True)\n",
        "\n",
        "\n",
        "def read_file_line_by_line(file_path):\n",
        "    with open(file_path, 'r') as file:\n",
        "        for line in file:\n",
        "            yield line.strip()  # strip() removes newline characters\n",
        "# Set the full path to your file in Drive\n",
        "file_path = '/content/drive/My Drive/example.txt'\n",
        "\n",
        "# Use the generator\n",
        "for line in read_file_line_by_line(file_path):\n",
        "    print(line)\n"
      ],
      "metadata": {
        "colab": {
          "base_uri": "https://localhost:8080/"
        },
        "id": "dWHJj9dGbHJ-",
        "outputId": "94709706-724d-4c74-ce87-fa85bd4faed1"
      },
      "execution_count": null,
      "outputs": [
        {
          "output_type": "stream",
          "name": "stdout",
          "text": [
            "Mounted at /content/drive\n",
            "﻿Python's basic concepts include.These fundamental elements form the foundation for building more complex programs.\n"
          ]
        }
      ]
    },
    {
      "cell_type": "code",
      "source": [
        "# 8. Use a lambda function in Python to sort a list of tuples based on the second element of each tuple.\n",
        "\n",
        "# List of tuples\n",
        "data = [(1, 5), (3, 2), (4, 8), (2, 1)]\n",
        "\n",
        "# Sort using a lambda function based on the second element\n",
        "sorted_data = sorted(data, key=lambda x: x[1])\n",
        "\n",
        "# Print the sorted list\n",
        "print(sorted_data)\n"
      ],
      "metadata": {
        "colab": {
          "base_uri": "https://localhost:8080/"
        },
        "id": "lgA9jEPibcir",
        "outputId": "e1faf1bc-ae27-4b59-9594-e9ad974e472f"
      },
      "execution_count": null,
      "outputs": [
        {
          "output_type": "stream",
          "name": "stdout",
          "text": [
            "[(2, 1), (3, 2), (1, 5), (4, 8)]\n"
          ]
        }
      ]
    },
    {
      "cell_type": "code",
      "source": [
        "# 9. Write a Python program that uses `map()` to convert a list of temperatures from Celsius to Fahrenheit.\n",
        "\n",
        "def celsius_to_fahrenheit(celsius):\n",
        "\n",
        "    return (celsius * 9/5) + 32\n",
        "\n",
        "celsius_temperatures = [0, 25, 100, -10, 37]\n",
        "\n",
        "# Use map() with the celsius_to_fahrenheit function to convert each temperature\n",
        "fahrenheit_temperatures = list(map(celsius_to_fahrenheit, celsius_temperatures))\n",
        "\n",
        "print(f\"Celsius temperatures: {celsius_temperatures}\")\n",
        "print(f\"Fahrenheit temperatures: {fahrenheit_temperatures}\")"
      ],
      "metadata": {
        "colab": {
          "base_uri": "https://localhost:8080/"
        },
        "id": "oN0D3230dSMm",
        "outputId": "75408d6c-1537-4416-917c-52715b2f66e7"
      },
      "execution_count": null,
      "outputs": [
        {
          "output_type": "stream",
          "name": "stdout",
          "text": [
            "Celsius temperatures: [0, 25, 100, -10, 37]\n",
            "Fahrenheit temperatures: [32.0, 77.0, 212.0, 14.0, 98.6]\n"
          ]
        }
      ]
    },
    {
      "cell_type": "code",
      "source": [
        "# 10. Create a Python program that uses `filter()` to remove all the vowels from a given string\n",
        "\n",
        "def remove_vowels(input_string):\n",
        "    vowels = 'aeiouAEIOU'\n",
        "    return ''.join(filter(lambda char: char not in vowels, input_string))\n",
        "\n",
        "# Example usage\n",
        "user_input = input(\"Enter a string: \")\n",
        "result = remove_vowels(user_input)\n",
        "print(\"String without vowels:\", result)\n"
      ],
      "metadata": {
        "colab": {
          "base_uri": "https://localhost:8080/"
        },
        "id": "59AVrTfcdtTv",
        "outputId": "42b581d8-509c-47cc-ad94-b9ec6de59625"
      },
      "execution_count": null,
      "outputs": [
        {
          "output_type": "stream",
          "name": "stdout",
          "text": [
            "Enter a string: Hello world\n",
            "String without vowels: Hll wrld\n"
          ]
        }
      ]
    },
    {
      "cell_type": "code",
      "source": [
        "''' 11) Imagine an accounting routine used in a book shop. It works on a list with sublists, which look like this:\n",
        "\n",
        "Order Number   \tBook Title and Author\t\t\t  Quantity       Price per Item\n",
        "\n",
        "34587\t\t\tLearning Python, Mark Lutz\t\t\t      4\t\t        40.95\n",
        "98762\t\t\tProgramming Python, Mark Lutz \t\t    5\t\t        56.80\n",
        "77226\t\t\tHead First Python, Paul Barry\t\t      3\t\t        32.95\n",
        "88112\t\t\tEinführung in Python3, Bernd Klein\t\t3\t\t        24.99\n",
        "\n",
        "\n",
        "Write a Python program, which returns a list with 2-tuples. Each tuple consists of the order number and the product of the price per item and the quantity. The product should be increased by 10,- € if the value of the order is smaller than 100,00 €.\n",
        "\n",
        "Write a Python program using lambda and map. '''\n",
        "\n",
        "# Sample data\n",
        "orders = [\n",
        "    [34587, \"Learning Python, Mark Lutz\", 4, 40.95],\n",
        "    [98762, \"Programming Python, Mark Lutz\", 5, 56.80],\n",
        "    [77226, \"Head First Python, Paul Barry\", 3, 32.95],\n",
        "    [88112, \"Einführung in Python3, Bernd Klein\", 3, 24.99]\n",
        "]\n",
        "\n",
        "# Use map and lambda to calculate the required output\n",
        "invoice = list(map(lambda order:\n",
        "                   (order[0], order[2] * order[3] if order[2] * order[3] >= 100 else order[2] * order[3] + 10),\n",
        "                   orders))\n",
        "\n",
        "# Display result\n",
        "print(invoice)\n"
      ],
      "metadata": {
        "colab": {
          "base_uri": "https://localhost:8080/"
        },
        "id": "n8Bu_Rx1uFjX",
        "outputId": "e74f8107-fdb8-472e-c678-01ba81ef4df0"
      },
      "execution_count": null,
      "outputs": [
        {
          "output_type": "stream",
          "name": "stdout",
          "text": [
            "[(34587, 163.8), (98762, 284.0), (77226, 108.85000000000001), (88112, 84.97)]\n"
          ]
        }
      ]
    },
    {
      "cell_type": "markdown",
      "source": [
        "#"
      ],
      "metadata": {
        "id": "KpalVaTLuDOO"
      }
    }
  ]
}